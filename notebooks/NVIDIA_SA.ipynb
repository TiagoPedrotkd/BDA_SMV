{
 "cells": [
  {
   "cell_type": "markdown",
   "metadata": {},
   "source": [
    "<div style=\"text-align: center; padding: 20px; border-radius: 10px;\">\n",
    "    <h1 style=\"color: #ffffff; font-size: 36px; font-weight: bold; text-shadow: 2px 2px 4px #3498db;\">📊 Análise de Preços das Ações da NVIDIA (NVDA) 📈</h1>\n",
    "    <p style=\"font-size: 18px; color: #7f8c8d;\">Uma exploração de tendências de mercado através de Big Data e Machine Learning</p>\n",
    "</div>"
   ]
  },
  {
   "cell_type": "markdown",
   "metadata": {},
   "source": [
    "<div style=\"\n",
    "    font-family: Arial, sans-serif;\n",
    "    font-size: 24px;\n",
    "    font-weight: bold;\n",
    "    text-shadow: 4px 4px 10px rgba(52, 152, 219, 0.8);\n",
    "    color: #ffffff;\">\n",
    "    Group Identification:\n",
    "</div>\n",
    "\n",
    "<div style=\"\n",
    "    font-family: Arial, sans-serif;\n",
    "    font-size: 16px;\n",
    "    font-weight: bold;\n",
    "    width: 95%;\n",
    "    color: #ffffff;\n",
    "    padding: 10px 15px;\n",
    "    border-radius: 5px;\n",
    "    display: inline-block;\n",
    "    margin: 10px\">\n",
    "    <strong>GROUP NUMBER: <span style=\"text-align: center; color: #ffffff; font-weight: bold;\">06</span></strong>\n",
    "</div>\n",
    "\n",
    "<div style=\"\n",
    "    font-family: Arial, sans-serif;\n",
    "    font-size: 16px;\n",
    "    font-weight: bold;\n",
    "    width: 95%;\n",
    "    color: #ffffff;\n",
    "    padding: 10px 15px;\n",
    "    border-radius: 5px;\n",
    "    display: inline-block;\n",
    "    margin: 10px\">\n",
    "    <strong>GROUP MEMBERS:</strong>\n",
    "</div>\n",
    "\n",
    "<table style=\"\n",
    "    width: 60%;\n",
    "    margin: 20px auto;\n",
    "    border-collapse: collapse;\n",
    "    font-family: Arial, sans-serif;\n",
    "    font-size: 16px;\n",
    "    color: #2c3e50;\n",
    "    border-radius: 8px;\n",
    "    box-shadow: 0px 2px 8px rgba(0, 0, 0, 0.1);\">\n",
    "<tr style=\"\n",
    "        background-color: #e0e0e0;\n",
    "        color: #2c3e50;\n",
    "        font-weight: bold;\n",
    "        text-align: center;\">\n",
    "        <th style=\"padding: 12px; border-bottom: 2px solid #b0b0b0;\">STUDENT NAME</th>\n",
    "        <th style=\"padding: 12px; border-bottom: 2px solid #b0b0b0;\">STUDENT NUMBER</th>\n",
    "</tr>\n",
    "\n",
    "<tr style=\"background-color: #f9f9f9; text-align: center;\">\n",
    "        <td style=\"padding: 12px; border-bottom: 1px solid #d0d0d0;\">Tiago Pedro Soares</td>\n",
    "        <td style=\"padding: 12px; border-bottom: 1px solid #d0d0d0;\">20240655</td>\n",
    "</tr>\n",
    "<tr style=\"background-color: #f9f9f9; text-align: center;\">\n",
    "        <td style=\"padding: 12px; border-bottom: 1px solid #d0d0d0;\">Bráulio Damba</td>\n",
    "        <td style=\"padding: 12px; border-bottom: 1px solid #d0d0d0;\">XXXXXXXX</td>\n",
    "</tr>\n",
    "<tr style=\"background-color: #f9f9f9; text-align: center;\">\n",
    "        <td style=\"padding: 12px; border-bottom: 1px solid #d0d0d0;\">Rui Lourenço</td>\n",
    "        <td style=\"padding: 12px; border-bottom: 1px solid #d0d0d0;\">XXXXXXXX</td>\n",
    "</tr>\n",
    "<tr style=\"background-color: #f9f9f9; text-align: center;\">\n",
    "        <td style=\"padding: 12px; border-bottom: 1px solid #d0d0d0;\">Victoria Goon</td>\n",
    "        <td style=\"padding: 12px; border-bottom: 1px solid #d0d0d0;\">XXXXXXXX</td>\n",
    "</tr>\n",
    "<tr style=\"background-color: #f9f9f9; text-align: center;\">\n",
    "        <td style=\"padding: 12px; border-bottom: 1px solid #d0d0d0;\">Mariana Sousa</td>\n",
    "        <td style=\"padding: 12px; border-bottom: 1px solid #d0d0d0;\">XXXXXXXX</td>\n",
    "</tr>\n",
    "</table>"
   ]
  },
  {
   "cell_type": "markdown",
   "metadata": {},
   "source": [
    "<div style=\"\n",
    "    font-family: Arial, sans-serif;\n",
    "    font-size: 24px;\n",
    "    font-weight: bold;\n",
    "    text-shadow: 4px 4px 10px rgba(52, 152, 219, 0.8);\n",
    "    color: #ffffff;\">\n",
    "    PACKAGES\n",
    "</div>"
   ]
  },
  {
   "cell_type": "markdown",
   "metadata": {},
   "source": [
    "<div style=\"\n",
    "    font-family: Arial, sans-serif;\n",
    "    font-size: 18px;\n",
    "    font-weight: bold;\n",
    "    width: 95%;\n",
    "    color: #ffffff;\n",
    "    background-color: #1f8a5b;\n",
    "    padding: 10px 15px;\n",
    "    border-radius: 5px;\n",
    "    display: inline-block;\n",
    "    margin: 10px\">\n",
    "    <strong>Now we gonna import all the packages that we need to extract the database</strong>\n",
    "</div>"
   ]
  },
  {
   "cell_type": "code",
   "execution_count": 1,
   "metadata": {},
   "outputs": [],
   "source": [
    "import yfinance as yf\n",
    "import pandas as pd\n",
    "from datetime import datetime, timedelta"
   ]
  },
  {
   "cell_type": "markdown",
   "metadata": {},
   "source": [
    "<div style=\"\n",
    "    font-family: Arial, sans-serif;\n",
    "    font-size: 24px;\n",
    "    font-weight: bold;\n",
    "    text-shadow: 4px 4px 10px rgba(52, 152, 219, 0.8);\n",
    "    color: #ffffff;\">\n",
    "    INITIALIZATION PROCESS OF IMPORTING THE DATA\n",
    "</div>"
   ]
  },
  {
   "cell_type": "code",
   "execution_count": 2,
   "metadata": {},
   "outputs": [],
   "source": [
    "# Definir o ticker e intervalo\n",
    "ticker = \"NVDA\"\n",
    "interval = \"1d\"  # Opções: 1m, 5m, 15m, 30m, 1h"
   ]
  },
  {
   "cell_type": "code",
   "execution_count": 3,
   "metadata": {},
   "outputs": [],
   "source": [
    "periods = {\n",
    "    \"before_trump\": (pd.to_datetime(\"1999-01-20\"), pd.to_datetime(\"2017-01-20\")),\n",
    "    \"during_trump\": (pd.to_datetime(\"2017-01-20\"), pd.to_datetime(\"2021-01-20\")),\n",
    "    \"after_trump\": (pd.to_datetime(\"2021-01-20\"), pd.to_datetime(\"2025-01-20\"))\n",
    "}"
   ]
  },
  {
   "cell_type": "code",
   "execution_count": 4,
   "metadata": {},
   "outputs": [],
   "source": [
    "# Intervalo máximo permitido pelo Yahoo Finance (90 dias por request)\n",
    "delta = timedelta(days=90)"
   ]
  },
  {
   "cell_type": "code",
   "execution_count": 5,
   "metadata": {},
   "outputs": [],
   "source": [
    "#Creating the dataframe to save the data\n",
    "dataframe = {}"
   ]
  },
  {
   "cell_type": "code",
   "execution_count": 6,
   "metadata": {},
   "outputs": [
    {
     "name": "stdout",
     "output_type": "stream",
     "text": [
      "Baixando dados para before_trump de 1999-01-20 a 2017-01-20...\n",
      "Baixando intervalo 1999-01-20 a 1999-04-20...\n",
      "YF.download() has changed argument auto_adjust default to True\n"
     ]
    },
    {
     "name": "stderr",
     "output_type": "stream",
     "text": [
      "[*********************100%***********************]  1 of 1 completed\n",
      "[*********************100%***********************]  1 of 1 completed\n"
     ]
    },
    {
     "name": "stdout",
     "output_type": "stream",
     "text": [
      "Baixando intervalo 1999-04-20 a 1999-07-19...\n",
      "Baixando intervalo 1999-07-19 a 1999-10-17...\n"
     ]
    },
    {
     "name": "stderr",
     "output_type": "stream",
     "text": [
      "[*********************100%***********************]  1 of 1 completed\n",
      "[*********************100%***********************]  1 of 1 completed\n"
     ]
    },
    {
     "name": "stdout",
     "output_type": "stream",
     "text": [
      "Baixando intervalo 1999-10-17 a 2000-01-15...\n",
      "Baixando intervalo 2000-01-15 a 2000-04-14...\n"
     ]
    },
    {
     "name": "stderr",
     "output_type": "stream",
     "text": [
      "[*********************100%***********************]  1 of 1 completed\n"
     ]
    },
    {
     "name": "stdout",
     "output_type": "stream",
     "text": [
      "Baixando intervalo 2000-04-14 a 2000-07-13...\n"
     ]
    },
    {
     "name": "stderr",
     "output_type": "stream",
     "text": [
      "[*********************100%***********************]  1 of 1 completed\n",
      "[*********************100%***********************]  1 of 1 completed\n"
     ]
    },
    {
     "name": "stdout",
     "output_type": "stream",
     "text": [
      "Baixando intervalo 2000-07-13 a 2000-10-11...\n",
      "Baixando intervalo 2000-10-11 a 2001-01-09...\n"
     ]
    },
    {
     "name": "stderr",
     "output_type": "stream",
     "text": [
      "[*********************100%***********************]  1 of 1 completed\n",
      "[*********************100%***********************]  1 of 1 completed\n"
     ]
    },
    {
     "name": "stdout",
     "output_type": "stream",
     "text": [
      "Baixando intervalo 2001-01-09 a 2001-04-09...\n",
      "Baixando intervalo 2001-04-09 a 2001-07-08...\n"
     ]
    },
    {
     "name": "stderr",
     "output_type": "stream",
     "text": [
      "[*********************100%***********************]  1 of 1 completed\n",
      "[*********************100%***********************]  1 of 1 completed"
     ]
    },
    {
     "name": "stdout",
     "output_type": "stream",
     "text": [
      "Baixando intervalo 2001-07-08 a 2001-10-06...\n",
      "Baixando intervalo 2001-10-06 a 2002-01-04...\n"
     ]
    },
    {
     "name": "stderr",
     "output_type": "stream",
     "text": [
      "\n",
      "[*********************100%***********************]  1 of 1 completed\n",
      "[*********************100%***********************]  1 of 1 completed"
     ]
    },
    {
     "name": "stdout",
     "output_type": "stream",
     "text": [
      "Baixando intervalo 2002-01-04 a 2002-04-04...\n",
      "Baixando intervalo 2002-04-04 a 2002-07-03...\n"
     ]
    },
    {
     "name": "stderr",
     "output_type": "stream",
     "text": [
      "\n",
      "[*********************100%***********************]  1 of 1 completed\n",
      "[*********************100%***********************]  1 of 1 completed\n"
     ]
    },
    {
     "name": "stdout",
     "output_type": "stream",
     "text": [
      "Baixando intervalo 2002-07-03 a 2002-10-01...\n",
      "Baixando intervalo 2002-10-01 a 2002-12-30...\n"
     ]
    },
    {
     "name": "stderr",
     "output_type": "stream",
     "text": [
      "[*********************100%***********************]  1 of 1 completed\n",
      "[*********************100%***********************]  1 of 1 completed"
     ]
    },
    {
     "name": "stdout",
     "output_type": "stream",
     "text": [
      "Baixando intervalo 2002-12-30 a 2003-03-30...\n",
      "Baixando intervalo 2003-03-30 a 2003-06-28...\n"
     ]
    },
    {
     "name": "stderr",
     "output_type": "stream",
     "text": [
      "\n",
      "[*********************100%***********************]  1 of 1 completed\n",
      "[*********************100%***********************]  1 of 1 completed"
     ]
    },
    {
     "name": "stdout",
     "output_type": "stream",
     "text": [
      "Baixando intervalo 2003-06-28 a 2003-09-26...\n",
      "Baixando intervalo 2003-09-26 a 2003-12-25...\n"
     ]
    },
    {
     "name": "stderr",
     "output_type": "stream",
     "text": [
      "\n",
      "[*********************100%***********************]  1 of 1 completed\n",
      "[*********************100%***********************]  1 of 1 completed"
     ]
    },
    {
     "name": "stdout",
     "output_type": "stream",
     "text": [
      "Baixando intervalo 2003-12-25 a 2004-03-24...\n",
      "Baixando intervalo 2004-03-24 a 2004-06-22...\n"
     ]
    },
    {
     "name": "stderr",
     "output_type": "stream",
     "text": [
      "\n",
      "[*********************100%***********************]  1 of 1 completed\n",
      "[*********************100%***********************]  1 of 1 completed\n"
     ]
    },
    {
     "name": "stdout",
     "output_type": "stream",
     "text": [
      "Baixando intervalo 2004-06-22 a 2004-09-20...\n",
      "Baixando intervalo 2004-09-20 a 2004-12-19...\n"
     ]
    },
    {
     "name": "stderr",
     "output_type": "stream",
     "text": [
      "[*********************100%***********************]  1 of 1 completed\n",
      "[*********************100%***********************]  1 of 1 completed"
     ]
    },
    {
     "name": "stdout",
     "output_type": "stream",
     "text": [
      "Baixando intervalo 2004-12-19 a 2005-03-19...\n",
      "Baixando intervalo 2005-03-19 a 2005-06-17...\n"
     ]
    },
    {
     "name": "stderr",
     "output_type": "stream",
     "text": [
      "\n",
      "[*********************100%***********************]  1 of 1 completed\n",
      "[*********************100%***********************]  1 of 1 completed"
     ]
    },
    {
     "name": "stdout",
     "output_type": "stream",
     "text": [
      "Baixando intervalo 2005-06-17 a 2005-09-15...\n",
      "Baixando intervalo 2005-09-15 a 2005-12-14...\n"
     ]
    },
    {
     "name": "stderr",
     "output_type": "stream",
     "text": [
      "\n",
      "[*********************100%***********************]  1 of 1 completed\n",
      "[*********************100%***********************]  1 of 1 completed\n"
     ]
    },
    {
     "name": "stdout",
     "output_type": "stream",
     "text": [
      "Baixando intervalo 2005-12-14 a 2006-03-14...\n",
      "Baixando intervalo 2006-03-14 a 2006-06-12...\n"
     ]
    },
    {
     "name": "stderr",
     "output_type": "stream",
     "text": [
      "[*********************100%***********************]  1 of 1 completed\n"
     ]
    },
    {
     "name": "stdout",
     "output_type": "stream",
     "text": [
      "Baixando intervalo 2006-06-12 a 2006-09-10...\n"
     ]
    },
    {
     "name": "stderr",
     "output_type": "stream",
     "text": [
      "[*********************100%***********************]  1 of 1 completed\n",
      "[*********************100%***********************]  1 of 1 completed\n"
     ]
    },
    {
     "name": "stdout",
     "output_type": "stream",
     "text": [
      "Baixando intervalo 2006-09-10 a 2006-12-09...\n",
      "Baixando intervalo 2006-12-09 a 2007-03-09...\n"
     ]
    },
    {
     "name": "stderr",
     "output_type": "stream",
     "text": [
      "[*********************100%***********************]  1 of 1 completed\n",
      "[*********************100%***********************]  1 of 1 completed\n"
     ]
    },
    {
     "name": "stdout",
     "output_type": "stream",
     "text": [
      "Baixando intervalo 2007-03-09 a 2007-06-07...\n",
      "Baixando intervalo 2007-06-07 a 2007-09-05...\n"
     ]
    },
    {
     "name": "stderr",
     "output_type": "stream",
     "text": [
      "[*********************100%***********************]  1 of 1 completed\n",
      "[*********************100%***********************]  1 of 1 completed"
     ]
    },
    {
     "name": "stdout",
     "output_type": "stream",
     "text": [
      "Baixando intervalo 2007-09-05 a 2007-12-04...\n",
      "Baixando intervalo 2007-12-04 a 2008-03-03...\n"
     ]
    },
    {
     "name": "stderr",
     "output_type": "stream",
     "text": [
      "\n",
      "[*********************100%***********************]  1 of 1 completed\n",
      "[*********************100%***********************]  1 of 1 completed"
     ]
    },
    {
     "name": "stdout",
     "output_type": "stream",
     "text": [
      "Baixando intervalo 2008-03-03 a 2008-06-01...\n",
      "Baixando intervalo 2008-06-01 a 2008-08-30...\n"
     ]
    },
    {
     "name": "stderr",
     "output_type": "stream",
     "text": [
      "\n",
      "[*********************100%***********************]  1 of 1 completed\n",
      "[*********************100%***********************]  1 of 1 completed"
     ]
    },
    {
     "name": "stdout",
     "output_type": "stream",
     "text": [
      "Baixando intervalo 2008-08-30 a 2008-11-28...\n",
      "Baixando intervalo 2008-11-28 a 2009-02-26...\n"
     ]
    },
    {
     "name": "stderr",
     "output_type": "stream",
     "text": [
      "\n",
      "[*********************100%***********************]  1 of 1 completed\n",
      "[*********************100%***********************]  1 of 1 completed"
     ]
    },
    {
     "name": "stdout",
     "output_type": "stream",
     "text": [
      "Baixando intervalo 2009-02-26 a 2009-05-27...\n",
      "Baixando intervalo 2009-05-27 a 2009-08-25...\n"
     ]
    },
    {
     "name": "stderr",
     "output_type": "stream",
     "text": [
      "\n",
      "[*********************100%***********************]  1 of 1 completed\n",
      "[*********************100%***********************]  1 of 1 completed\n"
     ]
    },
    {
     "name": "stdout",
     "output_type": "stream",
     "text": [
      "Baixando intervalo 2009-08-25 a 2009-11-23...\n",
      "Baixando intervalo 2009-11-23 a 2010-02-21...\n"
     ]
    },
    {
     "name": "stderr",
     "output_type": "stream",
     "text": [
      "[*********************100%***********************]  1 of 1 completed\n",
      "[*********************100%***********************]  1 of 1 completed\n"
     ]
    },
    {
     "name": "stdout",
     "output_type": "stream",
     "text": [
      "Baixando intervalo 2010-02-21 a 2010-05-22...\n",
      "Baixando intervalo 2010-05-22 a 2010-08-20...\n"
     ]
    },
    {
     "name": "stderr",
     "output_type": "stream",
     "text": [
      "[*********************100%***********************]  1 of 1 completed\n",
      "[*********************100%***********************]  1 of 1 completed"
     ]
    },
    {
     "name": "stdout",
     "output_type": "stream",
     "text": [
      "Baixando intervalo 2010-08-20 a 2010-11-18...\n",
      "Baixando intervalo 2010-11-18 a 2011-02-16...\n"
     ]
    },
    {
     "name": "stderr",
     "output_type": "stream",
     "text": [
      "\n",
      "[*********************100%***********************]  1 of 1 completed\n",
      "[*********************100%***********************]  1 of 1 completed"
     ]
    },
    {
     "name": "stdout",
     "output_type": "stream",
     "text": [
      "Baixando intervalo 2011-02-16 a 2011-05-17...\n",
      "Baixando intervalo 2011-05-17 a 2011-08-15...\n"
     ]
    },
    {
     "name": "stderr",
     "output_type": "stream",
     "text": [
      "\n",
      "[*********************100%***********************]  1 of 1 completed\n",
      "[*********************100%***********************]  1 of 1 completed\n"
     ]
    },
    {
     "name": "stdout",
     "output_type": "stream",
     "text": [
      "Baixando intervalo 2011-08-15 a 2011-11-13...\n",
      "Baixando intervalo 2011-11-13 a 2012-02-11...\n"
     ]
    },
    {
     "name": "stderr",
     "output_type": "stream",
     "text": [
      "[*********************100%***********************]  1 of 1 completed\n",
      "[*********************100%***********************]  1 of 1 completed"
     ]
    },
    {
     "name": "stdout",
     "output_type": "stream",
     "text": [
      "Baixando intervalo 2012-02-11 a 2012-05-11...\n",
      "Baixando intervalo 2012-05-11 a 2012-08-09...\n"
     ]
    },
    {
     "name": "stderr",
     "output_type": "stream",
     "text": [
      "\n",
      "[*********************100%***********************]  1 of 1 completed\n",
      "[*********************100%***********************]  1 of 1 completed\n"
     ]
    },
    {
     "name": "stdout",
     "output_type": "stream",
     "text": [
      "Baixando intervalo 2012-08-09 a 2012-11-07...\n",
      "Baixando intervalo 2012-11-07 a 2013-02-05...\n"
     ]
    },
    {
     "name": "stderr",
     "output_type": "stream",
     "text": [
      "[*********************100%***********************]  1 of 1 completed\n",
      "[*********************100%***********************]  1 of 1 completed\n"
     ]
    },
    {
     "name": "stdout",
     "output_type": "stream",
     "text": [
      "Baixando intervalo 2013-02-05 a 2013-05-06...\n",
      "Baixando intervalo 2013-05-06 a 2013-08-04...\n"
     ]
    },
    {
     "name": "stderr",
     "output_type": "stream",
     "text": [
      "[*********************100%***********************]  1 of 1 completed\n",
      "[*********************100%***********************]  1 of 1 completed"
     ]
    },
    {
     "name": "stdout",
     "output_type": "stream",
     "text": [
      "Baixando intervalo 2013-08-04 a 2013-11-02...\n"
     ]
    },
    {
     "name": "stderr",
     "output_type": "stream",
     "text": [
      "\n",
      "[*********************100%***********************]  1 of 1 completed\n"
     ]
    },
    {
     "name": "stdout",
     "output_type": "stream",
     "text": [
      "Baixando intervalo 2013-11-02 a 2014-01-31...\n",
      "Baixando intervalo 2014-01-31 a 2014-05-01...\n"
     ]
    },
    {
     "name": "stderr",
     "output_type": "stream",
     "text": [
      "[*********************100%***********************]  1 of 1 completed\n",
      "[*********************100%***********************]  1 of 1 completed\n"
     ]
    },
    {
     "name": "stdout",
     "output_type": "stream",
     "text": [
      "Baixando intervalo 2014-05-01 a 2014-07-30...\n",
      "Baixando intervalo 2014-07-30 a 2014-10-28...\n"
     ]
    },
    {
     "name": "stderr",
     "output_type": "stream",
     "text": [
      "[*********************100%***********************]  1 of 1 completed\n",
      "[*********************100%***********************]  1 of 1 completed\n"
     ]
    },
    {
     "name": "stdout",
     "output_type": "stream",
     "text": [
      "Baixando intervalo 2014-10-28 a 2015-01-26...\n",
      "Baixando intervalo 2015-01-26 a 2015-04-26...\n"
     ]
    },
    {
     "name": "stderr",
     "output_type": "stream",
     "text": [
      "[*********************100%***********************]  1 of 1 completed\n",
      "[*********************100%***********************]  1 of 1 completed"
     ]
    },
    {
     "name": "stdout",
     "output_type": "stream",
     "text": [
      "Baixando intervalo 2015-04-26 a 2015-07-25...\n",
      "Baixando intervalo 2015-07-25 a 2015-10-23...\n"
     ]
    },
    {
     "name": "stderr",
     "output_type": "stream",
     "text": [
      "\n",
      "[*********************100%***********************]  1 of 1 completed\n",
      "[*********************100%***********************]  1 of 1 completed"
     ]
    },
    {
     "name": "stdout",
     "output_type": "stream",
     "text": [
      "Baixando intervalo 2015-10-23 a 2016-01-21...\n",
      "Baixando intervalo 2016-01-21 a 2016-04-20...\n"
     ]
    },
    {
     "name": "stderr",
     "output_type": "stream",
     "text": [
      "\n",
      "[*********************100%***********************]  1 of 1 completed\n",
      "[*********************100%***********************]  1 of 1 completed"
     ]
    },
    {
     "name": "stdout",
     "output_type": "stream",
     "text": [
      "Baixando intervalo 2016-04-20 a 2016-07-19...\n",
      "Baixando intervalo 2016-07-19 a 2016-10-17...\n"
     ]
    },
    {
     "name": "stderr",
     "output_type": "stream",
     "text": [
      "\n",
      "[*********************100%***********************]  1 of 1 completed\n"
     ]
    },
    {
     "name": "stdout",
     "output_type": "stream",
     "text": [
      "Baixando intervalo 2016-10-17 a 2017-01-15...\n"
     ]
    },
    {
     "name": "stderr",
     "output_type": "stream",
     "text": [
      "[*********************100%***********************]  1 of 1 completed\n",
      "[*********************100%***********************]  1 of 1 completed\n"
     ]
    },
    {
     "name": "stdout",
     "output_type": "stream",
     "text": [
      "Baixando intervalo 2017-01-15 a 2017-01-20...\n",
      "Baixando dados para during_trump de 2017-01-20 a 2021-01-20...\n",
      "Baixando intervalo 2017-01-20 a 2017-04-20...\n"
     ]
    },
    {
     "name": "stderr",
     "output_type": "stream",
     "text": [
      "[*********************100%***********************]  1 of 1 completed\n",
      "[*********************100%***********************]  1 of 1 completed\n"
     ]
    },
    {
     "name": "stdout",
     "output_type": "stream",
     "text": [
      "Baixando intervalo 2017-04-20 a 2017-07-19...\n",
      "Baixando intervalo 2017-07-19 a 2017-10-17...\n"
     ]
    },
    {
     "name": "stderr",
     "output_type": "stream",
     "text": [
      "[*********************100%***********************]  1 of 1 completed\n",
      "[*********************100%***********************]  1 of 1 completed"
     ]
    },
    {
     "name": "stdout",
     "output_type": "stream",
     "text": [
      "Baixando intervalo 2017-10-17 a 2018-01-15...\n",
      "Baixando intervalo 2018-01-15 a 2018-04-15...\n"
     ]
    },
    {
     "name": "stderr",
     "output_type": "stream",
     "text": [
      "\n",
      "[*********************100%***********************]  1 of 1 completed\n",
      "[*********************100%***********************]  1 of 1 completed\n"
     ]
    },
    {
     "name": "stdout",
     "output_type": "stream",
     "text": [
      "Baixando intervalo 2018-04-15 a 2018-07-14...\n",
      "Baixando intervalo 2018-07-14 a 2018-10-12...\n"
     ]
    },
    {
     "name": "stderr",
     "output_type": "stream",
     "text": [
      "[*********************100%***********************]  1 of 1 completed\n",
      "[*********************100%***********************]  1 of 1 completed"
     ]
    },
    {
     "name": "stdout",
     "output_type": "stream",
     "text": [
      "Baixando intervalo 2018-10-12 a 2019-01-10...\n",
      "Baixando intervalo 2019-01-10 a 2019-04-10...\n"
     ]
    },
    {
     "name": "stderr",
     "output_type": "stream",
     "text": [
      "\n",
      "[*********************100%***********************]  1 of 1 completed\n",
      "[*********************100%***********************]  1 of 1 completed"
     ]
    },
    {
     "name": "stdout",
     "output_type": "stream",
     "text": [
      "Baixando intervalo 2019-04-10 a 2019-07-09...\n",
      "Baixando intervalo 2019-07-09 a 2019-10-07...\n"
     ]
    },
    {
     "name": "stderr",
     "output_type": "stream",
     "text": [
      "\n",
      "[*********************100%***********************]  1 of 1 completed\n",
      "[*********************100%***********************]  1 of 1 completed\n"
     ]
    },
    {
     "name": "stdout",
     "output_type": "stream",
     "text": [
      "Baixando intervalo 2019-10-07 a 2020-01-05...\n",
      "Baixando intervalo 2020-01-05 a 2020-04-04...\n"
     ]
    },
    {
     "name": "stderr",
     "output_type": "stream",
     "text": [
      "[*********************100%***********************]  1 of 1 completed\n",
      "[*********************100%***********************]  1 of 1 completed"
     ]
    },
    {
     "name": "stdout",
     "output_type": "stream",
     "text": [
      "Baixando intervalo 2020-04-04 a 2020-07-03...\n",
      "Baixando intervalo 2020-07-03 a 2020-10-01...\n"
     ]
    },
    {
     "name": "stderr",
     "output_type": "stream",
     "text": [
      "\n",
      "[*********************100%***********************]  1 of 1 completed\n",
      "[*********************100%***********************]  1 of 1 completed\n"
     ]
    },
    {
     "name": "stdout",
     "output_type": "stream",
     "text": [
      "Baixando intervalo 2020-10-01 a 2020-12-30...\n",
      "Baixando intervalo 2020-12-30 a 2021-01-20...\n"
     ]
    },
    {
     "name": "stderr",
     "output_type": "stream",
     "text": [
      "[*********************100%***********************]  1 of 1 completed\n"
     ]
    },
    {
     "name": "stdout",
     "output_type": "stream",
     "text": [
      "Baixando dados para after_trump de 2021-01-20 a 2025-01-20...\n",
      "Baixando intervalo 2021-01-20 a 2021-04-20...\n"
     ]
    },
    {
     "name": "stderr",
     "output_type": "stream",
     "text": [
      "[*********************100%***********************]  1 of 1 completed\n",
      "[*********************100%***********************]  1 of 1 completed\n"
     ]
    },
    {
     "name": "stdout",
     "output_type": "stream",
     "text": [
      "Baixando intervalo 2021-04-20 a 2021-07-19...\n",
      "Baixando intervalo 2021-07-19 a 2021-10-17...\n"
     ]
    },
    {
     "name": "stderr",
     "output_type": "stream",
     "text": [
      "[*********************100%***********************]  1 of 1 completed\n"
     ]
    },
    {
     "name": "stdout",
     "output_type": "stream",
     "text": [
      "Baixando intervalo 2021-10-17 a 2022-01-15...\n"
     ]
    },
    {
     "name": "stderr",
     "output_type": "stream",
     "text": [
      "[*********************100%***********************]  1 of 1 completed\n",
      "[*********************100%***********************]  1 of 1 completed\n"
     ]
    },
    {
     "name": "stdout",
     "output_type": "stream",
     "text": [
      "Baixando intervalo 2022-01-15 a 2022-04-15...\n",
      "Baixando intervalo 2022-04-15 a 2022-07-14...\n"
     ]
    },
    {
     "name": "stderr",
     "output_type": "stream",
     "text": [
      "[*********************100%***********************]  1 of 1 completed\n",
      "[*********************100%***********************]  1 of 1 completed\n"
     ]
    },
    {
     "name": "stdout",
     "output_type": "stream",
     "text": [
      "Baixando intervalo 2022-07-14 a 2022-10-12...\n",
      "Baixando intervalo 2022-10-12 a 2023-01-10...\n"
     ]
    },
    {
     "name": "stderr",
     "output_type": "stream",
     "text": [
      "[*********************100%***********************]  1 of 1 completed\n",
      "[*********************100%***********************]  1 of 1 completed\n"
     ]
    },
    {
     "name": "stdout",
     "output_type": "stream",
     "text": [
      "Baixando intervalo 2023-01-10 a 2023-04-10...\n",
      "Baixando intervalo 2023-04-10 a 2023-07-09...\n"
     ]
    },
    {
     "name": "stderr",
     "output_type": "stream",
     "text": [
      "[*********************100%***********************]  1 of 1 completed\n",
      "[*********************100%***********************]  1 of 1 completed"
     ]
    },
    {
     "name": "stdout",
     "output_type": "stream",
     "text": [
      "Baixando intervalo 2023-07-09 a 2023-10-07...\n"
     ]
    },
    {
     "name": "stderr",
     "output_type": "stream",
     "text": [
      "\n",
      "[*********************100%***********************]  1 of 1 completed\n"
     ]
    },
    {
     "name": "stdout",
     "output_type": "stream",
     "text": [
      "Baixando intervalo 2023-10-07 a 2024-01-05...\n",
      "Baixando intervalo 2024-01-05 a 2024-04-04...\n"
     ]
    },
    {
     "name": "stderr",
     "output_type": "stream",
     "text": [
      "[*********************100%***********************]  1 of 1 completed\n",
      "[*********************100%***********************]  1 of 1 completed\n"
     ]
    },
    {
     "name": "stdout",
     "output_type": "stream",
     "text": [
      "Baixando intervalo 2024-04-04 a 2024-07-03...\n",
      "Baixando intervalo 2024-07-03 a 2024-10-01...\n"
     ]
    },
    {
     "name": "stderr",
     "output_type": "stream",
     "text": [
      "[*********************100%***********************]  1 of 1 completed\n"
     ]
    },
    {
     "name": "stdout",
     "output_type": "stream",
     "text": [
      "Baixando intervalo 2024-10-01 a 2024-12-30...\n"
     ]
    },
    {
     "name": "stderr",
     "output_type": "stream",
     "text": [
      "[*********************100%***********************]  1 of 1 completed\n",
      "[*********************100%***********************]  1 of 1 completed"
     ]
    },
    {
     "name": "stdout",
     "output_type": "stream",
     "text": [
      "Baixando intervalo 2024-12-30 a 2025-01-20...\n"
     ]
    },
    {
     "name": "stderr",
     "output_type": "stream",
     "text": [
      "\n"
     ]
    }
   ],
   "source": [
    "# Loop sobre cada período\n",
    "for period, (start_date, end_date) in periods.items():\n",
    "    print(f\"Baixando dados para {period} de {start_date.strftime('%Y-%m-%d')} a {end_date.strftime('%Y-%m-%d')}...\")\n",
    "    \n",
    "    # Criar lista para armazenar os blocos de 90 dias\n",
    "    all_data = []\n",
    "    current_date = start_date\n",
    "    \n",
    "    while current_date < end_date:\n",
    "        next_date = min(current_date + delta, end_date)  # Garantir que não ultrapassa a data final\n",
    "        print(f\"Baixando intervalo {current_date.strftime('%Y-%m-%d')} a {next_date.strftime('%Y-%m-%d')}...\")\n",
    "        \n",
    "        # Fazer requisição para cada intervalo de 90 dias\n",
    "        data = yf.download(ticker, start=current_date.strftime('%Y-%m-%d'), \n",
    "                            end=next_date.strftime('%Y-%m-%d'), interval=interval)\n",
    "        \n",
    "        # Adicionar ao conjunto de dados se não estiver vazio\n",
    "        if not data.empty:\n",
    "            data[\"Period\"] = period  # Adicionar coluna de identificação do período\n",
    "            all_data.append(data)\n",
    "        \n",
    "        # Avançar para o próximo bloco\n",
    "        current_date = next_date\n",
    "    \n",
    "    # Concatenar os blocos de dados\n",
    "    if all_data:\n",
    "        dataframe[period] = pd.concat(all_data)\n",
    "    else:\n",
    "        print(f\"⚠ Nenhum dado encontrado para {period}\")"
   ]
  },
  {
   "cell_type": "code",
   "execution_count": 7,
   "metadata": {},
   "outputs": [],
   "source": [
    "# Concatenate every period in one dataframe\n",
    "df_all = pd.concat(dataframe.values(), ignore_index=False)\n"
   ]
  },
  {
   "cell_type": "code",
   "execution_count": 8,
   "metadata": {},
   "outputs": [],
   "source": [
    "# Saving the data in csv\n",
    "df_all.to_csv(\"../data/external/nvidia_stock_data.csv\")\n"
   ]
  }
 ],
 "metadata": {
  "kernelspec": {
   "display_name": "Python 3",
   "language": "python",
   "name": "python3"
  },
  "language_info": {
   "codemirror_mode": {
    "name": "ipython",
    "version": 3
   },
   "file_extension": ".py",
   "mimetype": "text/x-python",
   "name": "python",
   "nbconvert_exporter": "python",
   "pygments_lexer": "ipython3",
   "version": "3.11.0"
  }
 },
 "nbformat": 4,
 "nbformat_minor": 2
}
